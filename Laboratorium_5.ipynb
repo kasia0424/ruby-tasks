{
 "metadata": {
  "language": "ruby",
  "name": "",
  "signature": "sha256:2a383f0de226b630e285c1f089c999f1ca5b16e1075a776a2f6e8666e59bd2ad"
 },
 "nbformat": 3,
 "nbformat_minor": 0,
 "worksheets": [
  {
   "cells": [
    {
     "cell_type": "heading",
     "level": 1,
     "metadata": {},
     "source": [
      "Zapytania z\u0142o\u017cone"
     ]
    },
    {
     "cell_type": "markdown",
     "metadata": {},
     "source": [
      "Przed rozpocz\u0119ciem pracy konieczne jest skonfigurowanie bazy oraz za\u0142adowanie danych:\n",
      "```ruby\n",
      "$:.unshift \".\"\n",
      "require 'db_setup'\n",
      "require 'db_load'\n",
      "```"
     ]
    },
    {
     "cell_type": "code",
     "collapsed": false,
     "input": [
      "$:.unshift \".\"\n",
      "require 'db_setup'\n",
      "require 'db_load'"
     ],
     "language": "python",
     "metadata": {},
     "outputs": [
      {
       "output_type": "stream",
       "stream": "stdout",
       "text": [
        "==  CreateAuthorsMigration: migrating =========================================\n"
       ]
      },
      {
       "output_type": "stream",
       "stream": "stdout",
       "text": [
        "-- create_table(:authors)\n"
       ]
      },
      {
       "output_type": "stream",
       "stream": "stdout",
       "text": [
        "   -> 0.1075s\n"
       ]
      },
      {
       "output_type": "stream",
       "stream": "stdout",
       "text": [
        "==  CreateAuthorsMigration: migrated (0.1084s) ================================\n"
       ]
      },
      {
       "output_type": "stream",
       "stream": "stdout",
       "text": [
        "\n"
       ]
      },
      {
       "output_type": "stream",
       "stream": "stdout",
       "text": [
        "==  CreateBooksMigration: migrating ===========================================\n"
       ]
      },
      {
       "output_type": "stream",
       "stream": "stdout",
       "text": [
        "-- create_table(:books)\n"
       ]
      },
      {
       "output_type": "stream",
       "stream": "stdout",
       "text": [
        "   -> 0.0715s\n"
       ]
      },
      {
       "output_type": "stream",
       "stream": "stdout",
       "text": [
        "==  CreateBooksMigration: migrated (0.0723s) ==================================\n"
       ]
      },
      {
       "output_type": "stream",
       "stream": "stdout",
       "text": [
        "\n"
       ]
      },
      {
       "output_type": "stream",
       "stream": "stdout",
       "text": [
        "==  CreateGenresMigration: migrating ==========================================\n"
       ]
      },
      {
       "output_type": "stream",
       "stream": "stdout",
       "text": [
        "-- create_table(:genres)\n"
       ]
      },
      {
       "output_type": "stream",
       "stream": "stdout",
       "text": [
        "   -> 0.1379s\n"
       ]
      },
      {
       "output_type": "stream",
       "stream": "stdout",
       "text": [
        "==  CreateGenresMigration: migrated (0.1391s) =================================\n"
       ]
      },
      {
       "output_type": "stream",
       "stream": "stdout",
       "text": [
        "\n"
       ]
      },
      {
       "output_type": "stream",
       "stream": "stdout",
       "text": [
        "==  CreateBooksGenresMigration: migrating =====================================\n"
       ]
      },
      {
       "output_type": "stream",
       "stream": "stdout",
       "text": [
        "-- create_table(:books_genres, {:id=>false})\n"
       ]
      },
      {
       "output_type": "stream",
       "stream": "stdout",
       "text": [
        "   -> 0.1094s\n"
       ]
      },
      {
       "output_type": "stream",
       "stream": "stdout",
       "text": [
        "-- add_index(:books_genres, [:book_id, :genre_id], {:unique=>true})\n"
       ]
      },
      {
       "output_type": "stream",
       "stream": "stdout",
       "text": [
        "   -> 0.0834s\n"
       ]
      },
      {
       "output_type": "stream",
       "stream": "stdout",
       "text": [
        "==  CreateBooksGenresMigration: migrated (0.1946s) ============================\n"
       ]
      },
      {
       "output_type": "stream",
       "stream": "stdout",
       "text": [
        "\n"
       ]
      },
      {
       "output_type": "stream",
       "stream": "stdout",
       "text": [
        "==  AddIndicesMigration: migrating ============================================\n"
       ]
      },
      {
       "output_type": "stream",
       "stream": "stdout",
       "text": [
        "==  AddIndicesMigration: migrated (0.0000s) ===================================\n"
       ]
      },
      {
       "output_type": "stream",
       "stream": "stdout",
       "text": [
        "\n"
       ]
      },
      {
       "output_type": "stream",
       "stream": "stdout",
       "text": [
        "."
       ]
      },
      {
       "output_type": "stream",
       "stream": "stdout",
       "text": [
        "."
       ]
      },
      {
       "output_type": "stream",
       "stream": "stdout",
       "text": [
        "."
       ]
      },
      {
       "output_type": "stream",
       "stream": "stdout",
       "text": [
        "."
       ]
      },
      {
       "output_type": "stream",
       "stream": "stdout",
       "text": [
        "."
       ]
      },
      {
       "output_type": "stream",
       "stream": "stdout",
       "text": [
        "."
       ]
      },
      {
       "output_type": "stream",
       "stream": "stdout",
       "text": [
        "."
       ]
      },
      {
       "output_type": "stream",
       "stream": "stdout",
       "text": [
        "."
       ]
      },
      {
       "output_type": "stream",
       "stream": "stdout",
       "text": [
        "."
       ]
      },
      {
       "output_type": "stream",
       "stream": "stdout",
       "text": [
        "."
       ]
      },
      {
       "output_type": "stream",
       "stream": "stdout",
       "text": [
        "."
       ]
      },
      {
       "output_type": "stream",
       "stream": "stdout",
       "text": [
        "."
       ]
      },
      {
       "output_type": "stream",
       "stream": "stdout",
       "text": [
        "."
       ]
      },
      {
       "output_type": "stream",
       "stream": "stdout",
       "text": [
        "."
       ]
      },
      {
       "output_type": "stream",
       "stream": "stdout",
       "text": [
        "."
       ]
      },
      {
       "output_type": "stream",
       "stream": "stdout",
       "text": [
        "."
       ]
      },
      {
       "output_type": "stream",
       "stream": "stdout",
       "text": [
        "."
       ]
      },
      {
       "output_type": "stream",
       "stream": "stdout",
       "text": [
        "."
       ]
      },
      {
       "output_type": "stream",
       "stream": "stdout",
       "text": [
        "."
       ]
      },
      {
       "output_type": "stream",
       "stream": "stdout",
       "text": [
        "."
       ]
      },
      {
       "output_type": "stream",
       "stream": "stdout",
       "text": [
        "."
       ]
      },
      {
       "output_type": "stream",
       "stream": "stdout",
       "text": [
        "."
       ]
      },
      {
       "output_type": "stream",
       "stream": "stdout",
       "text": [
        "."
       ]
      },
      {
       "output_type": "stream",
       "stream": "stdout",
       "text": [
        "."
       ]
      },
      {
       "output_type": "stream",
       "stream": "stdout",
       "text": [
        "."
       ]
      },
      {
       "output_type": "stream",
       "stream": "stdout",
       "text": [
        "."
       ]
      },
      {
       "output_type": "stream",
       "stream": "stdout",
       "text": [
        "."
       ]
      },
      {
       "output_type": "stream",
       "stream": "stdout",
       "text": [
        "."
       ]
      },
      {
       "output_type": "stream",
       "stream": "stdout",
       "text": [
        "."
       ]
      },
      {
       "output_type": "stream",
       "stream": "stdout",
       "text": [
        "."
       ]
      },
      {
       "output_type": "stream",
       "stream": "stdout",
       "text": [
        "."
       ]
      },
      {
       "output_type": "stream",
       "stream": "stdout",
       "text": [
        "."
       ]
      },
      {
       "output_type": "stream",
       "stream": "stdout",
       "text": [
        "."
       ]
      },
      {
       "output_type": "stream",
       "stream": "stdout",
       "text": [
        "."
       ]
      },
      {
       "output_type": "stream",
       "stream": "stdout",
       "text": [
        "."
       ]
      },
      {
       "output_type": "stream",
       "stream": "stdout",
       "text": [
        "."
       ]
      },
      {
       "output_type": "stream",
       "stream": "stdout",
       "text": [
        "."
       ]
      },
      {
       "output_type": "stream",
       "stream": "stdout",
       "text": [
        "."
       ]
      },
      {
       "output_type": "stream",
       "stream": "stdout",
       "text": [
        "."
       ]
      },
      {
       "output_type": "stream",
       "stream": "stdout",
       "text": [
        "."
       ]
      },
      {
       "output_type": "stream",
       "stream": "stdout",
       "text": [
        "."
       ]
      },
      {
       "output_type": "stream",
       "stream": "stdout",
       "text": [
        "."
       ]
      },
      {
       "output_type": "stream",
       "stream": "stdout",
       "text": [
        "."
       ]
      },
      {
       "output_type": "stream",
       "stream": "stdout",
       "text": [
        "."
       ]
      },
      {
       "output_type": "stream",
       "stream": "stdout",
       "text": [
        "."
       ]
      },
      {
       "output_type": "stream",
       "stream": "stdout",
       "text": [
        "."
       ]
      },
      {
       "output_type": "stream",
       "stream": "stdout",
       "text": [
        "."
       ]
      },
      {
       "output_type": "stream",
       "stream": "stdout",
       "text": [
        "."
       ]
      },
      {
       "output_type": "stream",
       "stream": "stdout",
       "text": [
        "."
       ]
      },
      {
       "output_type": "stream",
       "stream": "stdout",
       "text": [
        "."
       ]
      },
      {
       "output_type": "stream",
       "stream": "stdout",
       "text": [
        "."
       ]
      },
      {
       "output_type": "stream",
       "stream": "stdout",
       "text": [
        "."
       ]
      },
      {
       "output_type": "stream",
       "stream": "stdout",
       "text": [
        "."
       ]
      },
      {
       "output_type": "stream",
       "stream": "stdout",
       "text": [
        "."
       ]
      },
      {
       "output_type": "stream",
       "stream": "stdout",
       "text": [
        "."
       ]
      },
      {
       "output_type": "stream",
       "stream": "stdout",
       "text": [
        "."
       ]
      },
      {
       "output_type": "stream",
       "stream": "stdout",
       "text": [
        "."
       ]
      },
      {
       "output_type": "stream",
       "stream": "stdout",
       "text": [
        "."
       ]
      },
      {
       "output_type": "stream",
       "stream": "stdout",
       "text": [
        "."
       ]
      },
      {
       "output_type": "stream",
       "stream": "stdout",
       "text": [
        "."
       ]
      },
      {
       "output_type": "stream",
       "stream": "stdout",
       "text": [
        "."
       ]
      },
      {
       "output_type": "stream",
       "stream": "stdout",
       "text": [
        "."
       ]
      },
      {
       "output_type": "stream",
       "stream": "stdout",
       "text": [
        "."
       ]
      },
      {
       "output_type": "stream",
       "stream": "stdout",
       "text": [
        "."
       ]
      },
      {
       "output_type": "stream",
       "stream": "stdout",
       "text": [
        "."
       ]
      },
      {
       "output_type": "stream",
       "stream": "stdout",
       "text": [
        "."
       ]
      },
      {
       "output_type": "stream",
       "stream": "stdout",
       "text": [
        "."
       ]
      },
      {
       "output_type": "stream",
       "stream": "stdout",
       "text": [
        "."
       ]
      },
      {
       "output_type": "stream",
       "stream": "stdout",
       "text": [
        "."
       ]
      },
      {
       "output_type": "stream",
       "stream": "stdout",
       "text": [
        "."
       ]
      },
      {
       "output_type": "stream",
       "stream": "stdout",
       "text": [
        "."
       ]
      },
      {
       "output_type": "stream",
       "stream": "stdout",
       "text": [
        "."
       ]
      },
      {
       "output_type": "stream",
       "stream": "stdout",
       "text": [
        "."
       ]
      },
      {
       "output_type": "stream",
       "stream": "stdout",
       "text": [
        "."
       ]
      },
      {
       "output_type": "stream",
       "stream": "stdout",
       "text": [
        "."
       ]
      },
      {
       "output_type": "stream",
       "stream": "stdout",
       "text": [
        "."
       ]
      },
      {
       "output_type": "stream",
       "stream": "stdout",
       "text": [
        "."
       ]
      },
      {
       "output_type": "stream",
       "stream": "stdout",
       "text": [
        "."
       ]
      },
      {
       "output_type": "stream",
       "stream": "stdout",
       "text": [
        "."
       ]
      },
      {
       "output_type": "stream",
       "stream": "stdout",
       "text": [
        "."
       ]
      },
      {
       "output_type": "stream",
       "stream": "stdout",
       "text": [
        "."
       ]
      },
      {
       "output_type": "stream",
       "stream": "stdout",
       "text": [
        "."
       ]
      },
      {
       "output_type": "stream",
       "stream": "stdout",
       "text": [
        "."
       ]
      },
      {
       "output_type": "stream",
       "stream": "stdout",
       "text": [
        "."
       ]
      },
      {
       "output_type": "stream",
       "stream": "stdout",
       "text": [
        "."
       ]
      },
      {
       "output_type": "stream",
       "stream": "stdout",
       "text": [
        "."
       ]
      },
      {
       "output_type": "stream",
       "stream": "stdout",
       "text": [
        "."
       ]
      },
      {
       "output_type": "stream",
       "stream": "stdout",
       "text": [
        "."
       ]
      },
      {
       "output_type": "stream",
       "stream": "stdout",
       "text": [
        "."
       ]
      },
      {
       "output_type": "stream",
       "stream": "stdout",
       "text": [
        "."
       ]
      },
      {
       "output_type": "stream",
       "stream": "stdout",
       "text": [
        "."
       ]
      },
      {
       "output_type": "stream",
       "stream": "stdout",
       "text": [
        "."
       ]
      },
      {
       "output_type": "stream",
       "stream": "stdout",
       "text": [
        "."
       ]
      },
      {
       "output_type": "stream",
       "stream": "stdout",
       "text": [
        "."
       ]
      },
      {
       "output_type": "stream",
       "stream": "stdout",
       "text": [
        "."
       ]
      },
      {
       "output_type": "stream",
       "stream": "stdout",
       "text": [
        "."
       ]
      },
      {
       "output_type": "stream",
       "stream": "stdout",
       "text": [
        "."
       ]
      },
      {
       "metadata": {},
       "output_type": "pyout",
       "prompt_number": 1,
       "text": [
        "true"
       ]
      }
     ],
     "prompt_number": 1
    },
    {
     "cell_type": "markdown",
     "metadata": {},
     "source": [
      "W dalszych zadaniach b\u0119dzie wykonywa\u0107 polecenia korzystaj\u0105c z nast\u0119puj\u0105cych klas, zmapowanych na odpowiadaj\u0105ce im \n",
      "table w bazie danych:\n",
      "```ruby\n",
      "class Author < ActiveRecord::Base\n",
      "  # name      (string)\n",
      "  # surname   (string)\n",
      "  # born      (datetime) \n",
      "  # died      (datetime)\n",
      "  # image_url (string)\n",
      "  \n",
      "  has_many :books\n",
      "end\n",
      "\n",
      "class Book < ActiveRecord::Base\n",
      "  # title     (string)\n",
      "  # author    (Author)\n",
      "  # published (integer)\n",
      "\n",
      "  belongs_to :author\n",
      "end\n",
      "```"
     ]
    },
    {
     "cell_type": "markdown",
     "metadata": {},
     "source": [
      "ActiveRecord udost\u0119pnia interfejs pozwalaj\u0105cy wyszukiwa\u0107 dane w bazie r\u00f3wnie\u017c z wykorzystaniem zwi\u0105zk\u00f3w zdefiniowanych pomi\u0119dzy\n",
      "klasami. Do definiowania tych zwi\u0105zk\u00f3w s\u0142u\u017c\u0105 polecenia `has_many`, `belongs_to`, `has_one` oraz `has_and_belongs_to_many`.\n",
      "Przyk\u0142adowo je\u015bli chcemy dowiedzie\u0107 si\u0119 kto by\u0142 autorem pierwszej ksi\u0105\u017cki wykonujemy zapytanie:\n",
      "```ruby\n",
      "book = Book.first\n",
      "puts book.title\n",
      "puts book.author\n",
      "```"
     ]
    },
    {
     "cell_type": "code",
     "collapsed": false,
     "input": [
      "book = Book.first\n",
      "puts book.title\n",
      "puts book.author"
     ],
     "language": "python",
     "metadata": {},
     "outputs": [
      {
       "output_type": "stream",
       "stream": "stdout",
       "text": [
        "V\u00e9gj\u00e1t\u00e9k (reg\u00e9ny)\n"
       ]
      },
      {
       "output_type": "stream",
       "stream": "stdout",
       "text": [
        "#<Author:0x00000001ed1f10>\n"
       ]
      }
     ],
     "prompt_number": 2
    },
    {
     "cell_type": "markdown",
     "metadata": {},
     "source": [
      "Niestety prezentowany wynik nie jest zbyt u\u017cyteczny. Poniewa\u017c jednak metoda `author` zwraca obiekt, mo\u017cemy na nim wywo\u0142ywa\u0107 \n",
      "metody - tak samo jak w przypadku autora za\u0142adowanego bezpo\u015brednio z wykorzystaniem metod zdefiniowanych dla klasy `Author`\n",
      "```ruby\n",
      "book = Book.first\n",
      "puts book.title\n",
      "puts \"#{book.author.name} #{book.author.surname}\"\n",
      "```"
     ]
    },
    {
     "cell_type": "code",
     "collapsed": false,
     "input": [
      "book = Book.first\n",
      "puts book.title\n",
      "puts \"#{book.author.name} #{book.author.surname}\""
     ],
     "language": "python",
     "metadata": {},
     "outputs": [
      {
       "output_type": "stream",
       "stream": "stdout",
       "text": [
        "V\u00e9gj\u00e1t\u00e9k (reg\u00e9ny)\n"
       ]
      },
      {
       "output_type": "stream",
       "stream": "stdout",
       "text": [
        "Orson Scott Card\n"
       ]
      }
     ],
     "prompt_number": 3
    },
    {
     "cell_type": "markdown",
     "metadata": {},
     "source": [
      "Co wi\u0119cej, je\u015bli mamy do czynienia ze zwi\u0105zkiem jeden-do-wiele b\u0105d\u017a wiele-do-wiele, mo\u017cemy wywy\u0142ywa\u0107 wszystkie dotychczas poznane \n",
      "metody na kolekcji powi\u0105zanych obiekt\u00f3w. Istotnie u\u0142atwia to wyszukiwanie potrzebnych danych:\n",
      "```ruby\n",
      "books = Book.where(\"title like 'A%'\")\n",
      "books.each do |book|\n",
      "  puts book.title\n",
      "end\n",
      "\n",
      "author = Author.where(surname: \"To\u0142stoj\").first\n",
      "books = author.books.where(\"title like 'A%'\")\n",
      "books.each do |book|\n",
      "  puts book.title\n",
      "end\n",
      "```"
     ]
    },
    {
     "cell_type": "code",
     "collapsed": false,
     "input": [
      "books = Book.where(\"title like 'A%'\")\n",
      "books.each do |book|\n",
      "  puts book.title\n",
      "end\n",
      "\n",
      "author = Author.where(surname: \"To\u0142stoj\").first\n",
      "books = author.books.where(\"title like 'A%'\")\n",
      "books.each do |book|\n",
      "  puts book.title\n",
      "end"
     ],
     "language": "python",
     "metadata": {},
     "outputs": [
      {
       "output_type": "stream",
       "stream": "stdout",
       "text": [
        "Anna Karenina\n"
       ]
      },
      {
       "output_type": "stream",
       "stream": "stdout",
       "text": [
        "Azazel (powie\u015b\u0107)\n"
       ]
      },
      {
       "output_type": "stream",
       "stream": "stdout",
       "text": [
        "Anna Karenina\n"
       ]
      },
      {
       "metadata": {},
       "output_type": "pyout",
       "prompt_number": 6,
       "text": [
        "[#<Book id: 33, title: \"Anna Karenina\", language: nil, author_id: 27, published: 1877, image_url: \"http://commons.wikimedia.org/wiki/Special:FilePath...\">]"
       ]
      }
     ],
     "prompt_number": 6
    },
    {
     "cell_type": "markdown",
     "metadata": {},
     "source": [
      "R\u00f3\u017cnica pomi\u0119dzy tymi zapytaniami polega na tym, \u017ce w pierwszym przypadku szukamy ksi\u0105\u017cki, kt\u00f3rych tytu\u0142 zaczyna si\u0119 na \"A\" \n",
      "w ca\u0142ym zbiorze ksi\u0105\u017cek, a w drugi przypadku w\u015br\u00f3d ksi\u0105\u017cek napisanych przez To\u0142stoja."
     ]
    },
    {
     "cell_type": "markdown",
     "metadata": {},
     "source": [
      "Aby umo\u017cliwi\u0107 formatowanie wynik\u00f3w zapytania, IRuby udost\u0119pnia metod\u0119 `IRuby.html`, kt\u00f3ra pozwala na wy\u015bwietlanie kodu\n",
      "HTML. Przyk\u0142adowo\n",
      "```ruby\n",
      "IRuby.html \"<h1>Test HTML-a</h1>\"\n",
      "```"
     ]
    },
    {
     "cell_type": "code",
     "collapsed": false,
     "input": [
      "IRuby.html \"<h1>Test HTML-a</h1>\""
     ],
     "language": "python",
     "metadata": {},
     "outputs": [
      {
       "html": [
        "<h1>Test HTML-a</h1>"
       ],
       "metadata": {},
       "output_type": "pyout",
       "prompt_number": 7,
       "text": [
        "\"<h1>Test HTML-a</h1>\""
       ]
      }
     ],
     "prompt_number": 7
    },
    {
     "cell_type": "markdown",
     "metadata": {},
     "source": [
      "Dzi\u0119ki temu b\u0119dziemy mogli formatowa\u0107 wyniki zapyta\u0144, a wszczeg\u00f3lno\u015bci wy\u015bwietla\u0107 obrazy przedstwiaj\u0105ce autor\u00f3w oraz ksi\u0105\u017cki. \n",
      "Nale\u017cy jednak wzi\u0105\u0107 pod uwag\u0119, \u017ce nie wszystkie ksi\u0105\u017cki oraz nie wszyscy autorzy posiadaj\u0105 odpowiadaj\u0105ce im obrazki.\n",
      "Aby wy\u015bwietli\u0107 imi\u0119, nazwisko oraz obraz pierwszego autora piszemy:\n",
      "```ruby\n",
      "author = Author.where(\"image_url is not null\").first\n",
      "IRuby.html \"<h1>#{author.name} #{author.surname}</h1><img src='#{author.image_url}'/>\"\n",
      "```"
     ]
    },
    {
     "cell_type": "code",
     "collapsed": false,
     "input": [
      "author = Author.where(\"image_url is not null\").first\n",
      "IRuby.html \"<h1>#{author.name} #{author.surname}</h1><img src='#{author.image_url}'/>\""
     ],
     "language": "python",
     "metadata": {},
     "outputs": [
      {
       "html": [
        "<h1>Orson Scott Card</h1><img src='http://commons.wikimedia.org/wiki/Special:FilePath/Orson_Scott_Card_at_BYU_Symposium_20080216_closeup.jpg?width=300'/>"
       ],
       "metadata": {},
       "output_type": "pyout",
       "prompt_number": 8,
       "text": [
        "\"<h1>Orson Scott Card</h1><img src='http://commons.wikimedia.org/wiki/Special:FilePath/Orson_Scott_Card_at_BYU_Symposium_20080216_closeup.jpg?width=300'/>\""
       ]
      }
     ],
     "prompt_number": 8
    },
    {
     "cell_type": "markdown",
     "metadata": {},
     "source": [
      "Mo\u017cemy r\u00f3wnie\u017c zdefniowa\u0107 funkcj\u0119, np. `display_author`, kt\u00f3rej zadaniem b\u0119dzie wy\u015bwietlenie autora w tej postaci. \n",
      "Jedyny problem polega na tym, \u017ce funkcja `IRuby.html` mo\u017ce by\u0107 wywo\u0142ywana tylko raz. Dlatego je\u015bli chcemy wy\u015bwietli\u0107 kilku autor\u00f3w,\n",
      "musimy po\u0142\u0105czy\u0107 odpowiadaj\u0105ce im kody HTML i wynik przekaza\u0107 do funkcji `html`\n",
      "```ruby\n",
      "def display_author(author)\n",
      "  \"<h1>#{author.name} #{author.surname}</h1><img src='#{author.image_url}'/>\"\n",
      "end\n",
      "\n",
      "author_1 = Author.where(\"image_url is not null\").first\n",
      "author_2 = Author.where(\"image_url is not null\").offset(1).first\n",
      "document = display_author(author_1)\n",
      "document += display_author(author_2)\n",
      "IRuby.html document\n",
      "```"
     ]
    },
    {
     "cell_type": "code",
     "collapsed": false,
     "input": [
      "def display_author(author)\n",
      "  \"<h1>#{author.name} #{author.surname}</h1><img src='#{author.image_url}'/>\"\n",
      "end\n",
      "\n",
      "author_1 = Author.where(\"image_url is not null\").first\n",
      "author_2 = Author.where(\"image_url is not null\").offset(1).first\n",
      "document = display_author(author_1)\n",
      "document += display_author(author_2)\n",
      "IRuby.html document"
     ],
     "language": "python",
     "metadata": {},
     "outputs": [
      {
       "html": [
        "<h1>Orson Scott Card</h1><img src='http://commons.wikimedia.org/wiki/Special:FilePath/Orson_Scott_Card_at_BYU_Symposium_20080216_closeup.jpg?width=300'/><h1>Andrzej Sapkowski</h1><img src='http://commons.wikimedia.org/wiki/Special:FilePath/Sapkowski.jpg?width=300'/>"
       ],
       "metadata": {},
       "output_type": "pyout",
       "prompt_number": 9,
       "text": [
        "\"<h1>Orson Scott Card</h1><img src='http://commons.wikimedia.org/wiki/Special:FilePath/Orson_Scott_Card_at_BYU_Symposium_20080216_closeup.jpg?width=300'/><h1>Andrzej Sapkowski</h1><img src='http://commons.wikimedia.org/wiki/Special:FilePath/Sapkowski.jpg?width=300'/>\""
       ]
      }
     ],
     "prompt_number": 9
    },
    {
     "cell_type": "heading",
     "level": 2,
     "metadata": {},
     "source": [
      "Zadania"
     ]
    },
    {
     "cell_type": "heading",
     "level": 3,
     "metadata": {},
     "source": [
      "Zadanie 1"
     ]
    },
    {
     "cell_type": "markdown",
     "metadata": {},
     "source": [
      "Wy\u015bwietl wszystkich autor\u00f3w, kt\u00f3rzy urodzili si\u0119 przed rokiem 1900."
     ]
    },
    {
     "cell_type": "code",
     "collapsed": false,
     "input": [
      "data = \"1900-1-1\"\n",
      "\n",
      "authors = Author.where(\"born < ?\",data)\n",
      "authors.each do |author|\n",
      "  puts \"#{author.name} #{author.surname} #{author.born.strftime(\"%d-%m-%Y\")}\"\n",
      "end"
     ],
     "language": "python",
     "metadata": {},
     "outputs": [
      {
       "output_type": "stream",
       "stream": "stdout",
       "text": [
        "Jack London 12-01-1876\n"
       ]
      },
      {
       "output_type": "stream",
       "stream": "stdout",
       "text": [
        "Miko\u0142aj Kopernik 19-02-1473\n"
       ]
      },
      {
       "output_type": "stream",
       "stream": "stdout",
       "text": [
        "Maria Franciszka Koz\u0142owska 27-05-1862\n"
       ]
      },
      {
       "output_type": "stream",
       "stream": "stdout",
       "text": [
        "William Szekspir 23-04-1564\n"
       ]
      },
      {
       "output_type": "stream",
       "stream": "stdout",
       "text": [
        "John Ronald Reuel Tolkien 03-01-1892\n"
       ]
      },
      {
       "output_type": "stream",
       "stream": "stdout",
       "text": [
        "Aleksander Dumas (ojciec) 24-07-1802\n"
       ]
      },
      {
       "output_type": "stream",
       "stream": "stdout",
       "text": [
        "Tadeusz Do\u0142\u0119ga-Mostowicz 10-08-1898\n"
       ]
      },
      {
       "output_type": "stream",
       "stream": "stdout",
       "text": [
        "Henryk Sienkiewicz 05-05-1846\n"
       ]
      },
      {
       "output_type": "stream",
       "stream": "stdout",
       "text": [
        "Vladimir Nabokov 22-04-1899\n"
       ]
      },
      {
       "output_type": "stream",
       "stream": "stdout",
       "text": [
        "Adolf Hitler 20-04-1889\n"
       ]
      },
      {
       "output_type": "stream",
       "stream": "stdout",
       "text": [
        "Eliza Orzeszkowa 06-06-1841\n"
       ]
      },
      {
       "output_type": "stream",
       "stream": "stdout",
       "text": [
        "Benedykt Chmielowski 20-03-1700\n"
       ]
      },
      {
       "output_type": "stream",
       "stream": "stdout",
       "text": [
        "Aldous Huxley 26-07-1894\n"
       ]
      },
      {
       "output_type": "stream",
       "stream": "stdout",
       "text": [
        "Honor\u00e9 de Balzac 20-05-1799\n"
       ]
      },
      {
       "output_type": "stream",
       "stream": "stdout",
       "text": [
        "Franz Kafka 03-07-1883\n"
       ]
      },
      {
       "output_type": "stream",
       "stream": "stdout",
       "text": [
        "Howard Phillips Lovecraft 20-08-1890\n"
       ]
      },
      {
       "output_type": "stream",
       "stream": "stdout",
       "text": [
        "Lew To\u0142stoj 09-09-1828\n"
       ]
      },
      {
       "output_type": "stream",
       "stream": "stdout",
       "text": [
        "Ilja Ilf 15-10-1897\n"
       ]
      },
      {
       "output_type": "stream",
       "stream": "stdout",
       "text": [
        "Gabriela Zapolska 30-03-1857\n"
       ]
      },
      {
       "output_type": "stream",
       "stream": "stdout",
       "text": [
        "Clive Staples Lewis 29-11-1898\n"
       ]
      },
      {
       "output_type": "stream",
       "stream": "stdout",
       "text": [
        "Adam Mickiewicz 24-12-1798\n"
       ]
      },
      {
       "output_type": "stream",
       "stream": "stdout",
       "text": [
        "Iwan Turgieniew 09-11-1818\n"
       ]
      },
      {
       "output_type": "stream",
       "stream": "stdout",
       "text": [
        "Lucy Maud Montgomery 30-11-1874\n"
       ]
      },
      {
       "output_type": "stream",
       "stream": "stdout",
       "text": [
        "Aleksander Majkowski 17-07-1876\n"
       ]
      },
      {
       "metadata": {},
       "output_type": "pyout",
       "prompt_number": 14,
       "text": [
        "[#<Author id: 3, name: \"Jack\", surname: \"London\", born: \"1876-01-12\", died: \"1916-11-22\", image_url: \"http://commons.wikimedia.org/wiki/Special:FilePath...\">, #<Author id: 7, name: \"Miko\u0142aj\", surname: \"Kopernik\", born: \"1473-02-19\", died: \"1543-05-24\", image_url: \"http://commons.wikimedia.org/wiki/Special:FilePath...\">, #<Author id: 8, name: \"Maria Franciszka\", surname: \"Koz\u0142owska\", born: \"1862-05-27\", died: nil, image_url: \"http://commons.wikimedia.org/wiki/Special:FilePath...\">, #<Author id: 10, name: \"William\", surname: \"Szekspir\", born: \"1564-04-23\", died: \"1616-05-03\", image_url: \"http://commons.wikimedia.org/wiki/Special:FilePath...\">, #<Author id: 12, name: \"John Ronald Reuel\", surname: \"Tolkien\", born: \"1892-01-03\", died: \"1973-09-02\", image_url: \"http://commons.wikimedia.org/wiki/Special:FilePath...\">, #<Author id: 13, name: \"Aleksander Dumas\", surname: \"(ojciec)\", born: \"1802-07-24\", died: \"1870-12-05\", image_url: \"http://commons.wikimedia.org/wiki/Special:FilePath...\">, #<Author id: 14, name: \"Tadeusz\", surname: \"Do\u0142\u0119ga-Mostowicz\", born: \"1898-08-10\", died: \"1939-09-20\", image_url: \"http://commons.wikimedia.org/wiki/Special:FilePath...\">, #<Author id: 15, name: \"Henryk\", surname: \"Sienkiewicz\", born: \"1846-05-05\", died: \"1916-11-15\", image_url: \"http://commons.wikimedia.org/wiki/Special:FilePath...\">, #<Author id: 16, name: \"Vladimir\", surname: \"Nabokov\", born: \"1899-04-22\", died: \"1977-07-02\", image_url: \"http://commons.wikimedia.org/wiki/Special:FilePath...\">, #<Author id: 17, name: \"Adolf\", surname: \"Hitler\", born: \"1889-04-20\", died: \"1945-04-30\", image_url: \"http://commons.wikimedia.org/wiki/Special:FilePath...\">, #<Author id: 18, name: \"Eliza\", surname: \"Orzeszkowa\", born: \"1841-06-06\", died: \"1910-05-18\", image_url: \"http://commons.wikimedia.org/wiki/Special:FilePath...\">, #<Author id: 20, name: \"Benedykt\", surname: \"Chmielowski\", born: \"1700-03-20\", died: \"1763-04-07\", image_url: \"http://commons.wikimedia.org/wiki/Special:FilePath...\">, #<Author id: 21, name: \"Aldous\", surname: \"Huxley\", born: \"1894-07-26\", died: \"1963-11-22\", image_url: \"http://commons.wikimedia.org/wiki/Special:FilePath...\">, #<Author id: 22, name: \"Honor\u00e9 de\", surname: \"Balzac\", born: \"1799-05-20\", died: \"1850-08-18\", image_url: \"http://commons.wikimedia.org/wiki/Special:FilePath...\">, #<Author id: 23, name: \"Franz\", surname: \"Kafka\", born: \"1883-07-03\", died: \"1924-06-03\", image_url: \"http://commons.wikimedia.org/wiki/Special:FilePath...\">, #<Author id: 25, name: \"Howard Phillips\", surname: \"Lovecraft\", born: \"1890-08-20\", died: \"1937-03-15\", image_url: \"http://commons.wikimedia.org/wiki/Special:FilePath...\">, #<Author id: 27, name: \"Lew\", surname: \"To\u0142stoj\", born: \"1828-09-09\", died: \"1910-11-20\", image_url: \"http://commons.wikimedia.org/wiki/Special:FilePath...\">, #<Author id: 32, name: \"Ilja\", surname: \"Ilf\", born: \"1897-10-15\", died: \"1937-04-13\", image_url: \"http://commons.wikimedia.org/wiki/Special:FilePath...\">, #<Author id: 34, name: \"Gabriela\", surname: \"Zapolska\", born: \"1857-03-30\", died: \"1921-12-17\", image_url: \"http://commons.wikimedia.org/wiki/Special:FilePath...\">, #<Author id: 37, name: \"Clive Staples\", surname: \"Lewis\", born: \"1898-11-29\", died: \"1963-11-22\", image_url: \"http://commons.wikimedia.org/wiki/Special:FilePath...\">, #<Author id: 38, name: \"Adam\", surname: \"Mickiewicz\", born: \"1798-12-24\", died: \"1855-11-26\", image_url: \"http://commons.wikimedia.org/wiki/Special:FilePath...\">, #<Author id: 41, name: \"Iwan\", surname: \"Turgieniew\", born: \"1818-11-09\", died: \"1883-09-03\", image_url: \"http://commons.wikimedia.org/wiki/Special:FilePath...\">, #<Author id: 44, name: \"Lucy Maud\", surname: \"Montgomery\", born: \"1874-11-30\", died: \"1942-04-24\", image_url: \"http://commons.wikimedia.org/wiki/Special:FilePath...\">, #<Author id: 50, name: \"Aleksander\", surname: \"Majkowski\", born: \"1876-07-17\", died: \"1938-02-10\", image_url: \"http://commons.wikimedia.org/wiki/Special:FilePath...\">]"
       ]
      }
     ],
     "prompt_number": 14
    },
    {
     "cell_type": "heading",
     "level": 3,
     "metadata": {},
     "source": [
      "Zadanie 2"
     ]
    },
    {
     "cell_type": "markdown",
     "metadata": {},
     "source": [
      "Zmodyfikuj funkcj\u0119 wy\u015bwietlaj\u0105c\u0105 autor\u00f3w tak aby obejmowa\u0142a ich dat\u0119 urodzin i \u015bmierci w formacie `dzie\u0144.miesi\u0105c.rok`. Nast\u0119pnie wy\u015bwietl wszystkich autor\u00f3w,\n",
      "kt\u00f3rzy zmarli w XX wieku."
     ]
    },
    {
     "cell_type": "code",
     "collapsed": false,
     "input": [
      "authors = Author.where(died: (Date.parse(\"1901-1-1\")..Date.parse(\"2000-12-31\")))\n",
      "authors.each do |author|\n",
      "  puts \"#{author.name} #{author.surname} #{author.born.strftime(\"%d-%m-%Y\")} #{author.died.strftime(\"%d-%m-%Y\")}\"\n",
      "end"
     ],
     "language": "python",
     "metadata": {},
     "outputs": [
      {
       "output_type": "stream",
       "stream": "stdout",
       "text": [
        "Jack London 12-01-1876 22-11-1916\n"
       ]
      },
      {
       "output_type": "stream",
       "stream": "stdout",
       "text": [
        "Antoni Go\u0142ubiew 25-02-1907 27-06-1979\n"
       ]
      },
      {
       "output_type": "stream",
       "stream": "stdout",
       "text": [
        "George Orwell 25-06-1903 21-01-1950\n"
       ]
      },
      {
       "output_type": "stream",
       "stream": "stdout",
       "text": [
        "John Ronald Reuel Tolkien 03-01-1892 02-09-1973\n"
       ]
      },
      {
       "output_type": "stream",
       "stream": "stdout",
       "text": [
        "Tadeusz Do\u0142\u0119ga-Mostowicz 10-08-1898 20-09-1939\n"
       ]
      },
      {
       "output_type": "stream",
       "stream": "stdout",
       "text": [
        "Henryk Sienkiewicz 05-05-1846 15-11-1916\n"
       ]
      },
      {
       "output_type": "stream",
       "stream": "stdout",
       "text": [
        "Vladimir Nabokov 22-04-1899 02-07-1977\n"
       ]
      },
      {
       "output_type": "stream",
       "stream": "stdout",
       "text": [
        "Adolf Hitler 20-04-1889 30-04-1945\n"
       ]
      },
      {
       "output_type": "stream",
       "stream": "stdout",
       "text": [
        "Eliza Orzeszkowa 06-06-1841 18-05-1910\n"
       ]
      },
      {
       "output_type": "stream",
       "stream": "stdout",
       "text": [
        "Aldous Huxley 26-07-1894 22-11-1963\n"
       ]
      },
      {
       "output_type": "stream",
       "stream": "stdout",
       "text": [
        "Franz Kafka 03-07-1883 03-06-1924\n"
       ]
      },
      {
       "output_type": "stream",
       "stream": "stdout",
       "text": [
        "Howard Phillips Lovecraft 20-08-1890 15-03-1937\n"
       ]
      },
      {
       "output_type": "stream",
       "stream": "stdout",
       "text": [
        "Karol Olgierd Borchardt 25-03-1905 20-05-1986\n"
       ]
      },
      {
       "output_type": "stream",
       "stream": "stdout",
       "text": [
        "Lew To\u0142stoj 09-09-1828 20-11-1910\n"
       ]
      },
      {
       "output_type": "stream",
       "stream": "stdout",
       "text": [
        "Janusz Zajdel 15-08-1938 19-07-1985\n"
       ]
      },
      {
       "output_type": "stream",
       "stream": "stdout",
       "text": [
        "Isaac Asimov 04-10-1919 06-04-1992\n"
       ]
      },
      {
       "output_type": "stream",
       "stream": "stdout",
       "text": [
        "Ilja Ilf 15-10-1897 13-04-1937\n"
       ]
      },
      {
       "output_type": "stream",
       "stream": "stdout",
       "text": [
        "Jewgienij Pietrow (pisarz) 13-12-1903 02-07-1942\n"
       ]
      },
      {
       "output_type": "stream",
       "stream": "stdout",
       "text": [
        "Gabriela Zapolska 30-03-1857 17-12-1921\n"
       ]
      },
      {
       "output_type": "stream",
       "stream": "stdout",
       "text": [
        "Clive Staples Lewis 29-11-1898 22-11-1963\n"
       ]
      },
      {
       "output_type": "stream",
       "stream": "stdout",
       "text": [
        "Lucy Maud Montgomery 30-11-1874 24-04-1942\n"
       ]
      },
      {
       "output_type": "stream",
       "stream": "stdout",
       "text": [
        "Alfred Szklarski 21-01-1912 09-04-1992\n"
       ]
      },
      {
       "output_type": "stream",
       "stream": "stdout",
       "text": [
        "Aleksander Majkowski 17-07-1876 10-02-1938\n"
       ]
      },
      {
       "output_type": "stream",
       "stream": "stdout",
       "text": [
        "Ian Fleming 28-05-1908 12-08-1964\n"
       ]
      },
      {
       "metadata": {},
       "output_type": "pyout",
       "prompt_number": 50,
       "text": [
        "[#<Author id: 3, name: \"Jack\", surname: \"London\", born: \"1876-01-12\", died: \"1916-11-22\", image_url: \"http://commons.wikimedia.org/wiki/Special:FilePath...\">, #<Author id: 6, name: \"Antoni\", surname: \"Go\u0142ubiew\", born: \"1907-02-25\", died: \"1979-06-27\", image_url: \"http://commons.wikimedia.org/wiki/Special:FilePath...\">, #<Author id: 9, name: \"George\", surname: \"Orwell\", born: \"1903-06-25\", died: \"1950-01-21\", image_url: \"http://commons.wikimedia.org/wiki/Special:FilePath...\">, #<Author id: 12, name: \"John Ronald Reuel\", surname: \"Tolkien\", born: \"1892-01-03\", died: \"1973-09-02\", image_url: \"http://commons.wikimedia.org/wiki/Special:FilePath...\">, #<Author id: 14, name: \"Tadeusz\", surname: \"Do\u0142\u0119ga-Mostowicz\", born: \"1898-08-10\", died: \"1939-09-20\", image_url: \"http://commons.wikimedia.org/wiki/Special:FilePath...\">, #<Author id: 15, name: \"Henryk\", surname: \"Sienkiewicz\", born: \"1846-05-05\", died: \"1916-11-15\", image_url: \"http://commons.wikimedia.org/wiki/Special:FilePath...\">, #<Author id: 16, name: \"Vladimir\", surname: \"Nabokov\", born: \"1899-04-22\", died: \"1977-07-02\", image_url: \"http://commons.wikimedia.org/wiki/Special:FilePath...\">, #<Author id: 17, name: \"Adolf\", surname: \"Hitler\", born: \"1889-04-20\", died: \"1945-04-30\", image_url: \"http://commons.wikimedia.org/wiki/Special:FilePath...\">, #<Author id: 18, name: \"Eliza\", surname: \"Orzeszkowa\", born: \"1841-06-06\", died: \"1910-05-18\", image_url: \"http://commons.wikimedia.org/wiki/Special:FilePath...\">, #<Author id: 21, name: \"Aldous\", surname: \"Huxley\", born: \"1894-07-26\", died: \"1963-11-22\", image_url: \"http://commons.wikimedia.org/wiki/Special:FilePath...\">, #<Author id: 23, name: \"Franz\", surname: \"Kafka\", born: \"1883-07-03\", died: \"1924-06-03\", image_url: \"http://commons.wikimedia.org/wiki/Special:FilePath...\">, #<Author id: 25, name: \"Howard Phillips\", surname: \"Lovecraft\", born: \"1890-08-20\", died: \"1937-03-15\", image_url: \"http://commons.wikimedia.org/wiki/Special:FilePath...\">, #<Author id: 26, name: \"Karol Olgierd\", surname: \"Borchardt\", born: \"1905-03-25\", died: \"1986-05-20\", image_url: \"http://commons.wikimedia.org/wiki/Special:FilePath...\">, #<Author id: 27, name: \"Lew\", surname: \"To\u0142stoj\", born: \"1828-09-09\", died: \"1910-11-20\", image_url: \"http://commons.wikimedia.org/wiki/Special:FilePath...\">, #<Author id: 29, name: \"Janusz\", surname: \"Zajdel\", born: \"1938-08-15\", died: \"1985-07-19\", image_url: \"http://commons.wikimedia.org/wiki/Special:FilePath...\">, #<Author id: 31, name: \"Isaac\", surname: \"Asimov\", born: \"1919-10-04\", died: \"1992-04-06\", image_url: \"http://commons.wikimedia.org/wiki/Special:FilePath...\">, #<Author id: 32, name: \"Ilja\", surname: \"Ilf\", born: \"1897-10-15\", died: \"1937-04-13\", image_url: \"http://commons.wikimedia.org/wiki/Special:FilePath...\">, #<Author id: 33, name: \"Jewgienij Pietrow\", surname: \"(pisarz)\", born: \"1903-12-13\", died: \"1942-07-02\", image_url: \"http://commons.wikimedia.org/wiki/Special:FilePath...\">, #<Author id: 34, name: \"Gabriela\", surname: \"Zapolska\", born: \"1857-03-30\", died: \"1921-12-17\", image_url: \"http://commons.wikimedia.org/wiki/Special:FilePath...\">, #<Author id: 37, name: \"Clive Staples\", surname: \"Lewis\", born: \"1898-11-29\", died: \"1963-11-22\", image_url: \"http://commons.wikimedia.org/wiki/Special:FilePath...\">, #<Author id: 44, name: \"Lucy Maud\", surname: \"Montgomery\", born: \"1874-11-30\", died: \"1942-04-24\", image_url: \"http://commons.wikimedia.org/wiki/Special:FilePath...\">, #<Author id: 46, name: \"Alfred\", surname: \"Szklarski\", born: \"1912-01-21\", died: \"1992-04-09\", image_url: \"http://commons.wikimedia.org/wiki/Special:FilePath...\">, #<Author id: 50, name: \"Aleksander\", surname: \"Majkowski\", born: \"1876-07-17\", died: \"1938-02-10\", image_url: \"http://commons.wikimedia.org/wiki/Special:FilePath...\">, #<Author id: 51, name: \"Ian\", surname: \"Fleming\", born: \"1908-05-28\", died: \"1964-08-12\", image_url: \"http://commons.wikimedia.org/wiki/Special:FilePath...\">]"
       ]
      }
     ],
     "prompt_number": 50
    },
    {
     "cell_type": "heading",
     "level": 3,
     "metadata": {},
     "source": [
      "Zadanie 3"
     ]
    },
    {
     "cell_type": "markdown",
     "metadata": {},
     "source": [
      "Wy\u015bwietl 5 najm\u0142odszych autor\u00f3w, kt\u00f3rzy posiadaj\u0105 przypisane zdj\u0119cie."
     ]
    },
    {
     "cell_type": "code",
     "collapsed": false,
     "input": [
      "authors = Author.where(\"image_url is not null and died is null\").order(:born).last(5)\n",
      "\n",
      "\n",
      "authors.each do |author|\n",
      "  puts \"#{author.name} #{author.surname} #{author.born}\"\n",
      "end"
     ],
     "language": "python",
     "metadata": {},
     "outputs": [
      {
       "output_type": "stream",
       "stream": "stdout",
       "text": [
        "Orson Scott Card 1951-08-24\n"
       ]
      },
      {
       "output_type": "stream",
       "stream": "stdout",
       "text": [
        "Boris Akunin 1956-05-20\n"
       ]
      },
      {
       "output_type": "stream",
       "stream": "stdout",
       "text": [
        "Rafa\u0142 A. Ziemkiewicz 1964-09-13\n"
       ]
      },
      {
       "output_type": "stream",
       "stream": "stdout",
       "text": [
        "J. K. Rowling 1965-07-31\n"
       ]
      },
      {
       "output_type": "stream",
       "stream": "stdout",
       "text": [
        "Andrzej Pilipiuk 1974-03-20\n"
       ]
      },
      {
       "metadata": {},
       "output_type": "pyout",
       "prompt_number": 37,
       "text": [
        "[#<Author id: 1, name: \"Orson Scott\", surname: \"Card\", born: \"1951-08-24\", died: nil, image_url: \"http://commons.wikimedia.org/wiki/Special:FilePath...\">, #<Author id: 28, name: \"Boris\", surname: \"Akunin\", born: \"1956-05-20\", died: nil, image_url: \"http://commons.wikimedia.org/wiki/Special:FilePath...\">, #<Author id: 48, name: \"Rafa\u0142 A.\", surname: \"Ziemkiewicz\", born: \"1964-09-13\", died: nil, image_url: \"http://commons.wikimedia.org/wiki/Special:FilePath...\">, #<Author id: 11, name: \"J. K.\", surname: \"Rowling\", born: \"1965-07-31\", died: nil, image_url: \"http://commons.wikimedia.org/wiki/Special:FilePath...\">, #<Author id: 39, name: \"Andrzej\", surname: \"Pilipiuk\", born: \"1974-03-20\", died: nil, image_url: \"http://commons.wikimedia.org/wiki/Special:FilePath...\">]"
       ]
      }
     ],
     "prompt_number": 37
    },
    {
     "cell_type": "heading",
     "level": 3,
     "metadata": {},
     "source": [
      "Zadanie 4"
     ]
    },
    {
     "cell_type": "markdown",
     "metadata": {},
     "source": [
      "Zdefiniuj funkcj\u0119 `display_book`, kt\u00f3ra b\u0119dzie zwraca\u0142a fragment kodu HTML obejmuj\u0105cy tytu\u0142 ksi\u0105\u017cki, rok jej wydania oraz\n",
      "przypisany obrazek.\n",
      "Wy\u015bwietl najwcze\u015bniej wydan\u0105 ksi\u0105\u017ck\u0119."
     ]
    },
    {
     "cell_type": "code",
     "collapsed": false,
     "input": [
      "def display_book(book)\n",
      "  \"<h1>#{book.title} #{book.published}</h1><img src='#{book.image_url}'/>\"\n",
      "end\n",
      "\n",
      "book1 = Book.where(\"image_url is not null\").order(:published).first\n",
      "book2 = Book.order(:published).first\n",
      "\n",
      "document = display_book(book1)\n",
      "document += display_book(book2)\n",
      "IRuby.html document"
     ],
     "language": "python",
     "metadata": {},
     "outputs": [
      {
       "html": [
        "<h1>Hamlet </h1><img src='http://commons.wikimedia.org/wiki/Special:FilePath/Hamlet_quarto_3rd.jpg?width=300'/><h1>V\u00e9gj\u00e1t\u00e9k (reg\u00e9ny) </h1><img src=''/>"
       ],
       "metadata": {},
       "output_type": "pyout",
       "prompt_number": 41,
       "text": [
        "\"<h1>Hamlet </h1><img src='http://commons.wikimedia.org/wiki/Special:FilePath/Hamlet_quarto_3rd.jpg?width=300'/><h1>V\u00e9gj\u00e1t\u00e9k (reg\u00e9ny) </h1><img src=''/>\""
       ]
      }
     ],
     "prompt_number": 41
    },
    {
     "cell_type": "heading",
     "level": 3,
     "metadata": {},
     "source": [
      "Zadanie 5"
     ]
    },
    {
     "cell_type": "markdown",
     "metadata": {},
     "source": [
      "Wy\u015bwietl wszystkie ksi\u0105\u017cki, kt\u00f3re nie maj\u0105 przypisanego roku wydania."
     ]
    },
    {
     "cell_type": "code",
     "collapsed": false,
     "input": [
      "def display_book(book)\n",
      "  \"<h1>#{book.title} #{book.author.name} #{book.author.surname} #{book.published}</h1> <img src='#{book.image_url}'/>\"\n",
      "end\n",
      "\n",
      "books = Book.where(\"published is null\")\n",
      "\n",
      "document = \" \"\n",
      "\n",
      "books.each do |book|\n",
      "  document += display_book(book)\n",
      "end\n",
      "\n",
      "IRuby.html document"
     ],
     "language": "python",
     "metadata": {},
     "outputs": [
      {
       "html": [
        " <h1>V\u00e9gj\u00e1t\u00e9k (reg\u00e9ny) Orson Scott Card </h1> <img src=''/><h1>Hamlet William Szekspir </h1> <img src='http://commons.wikimedia.org/wiki/Special:FilePath/Hamlet_quarto_3rd.jpg?width=300'/>"
       ],
       "metadata": {},
       "output_type": "pyout",
       "prompt_number": 47,
       "text": [
        "\" <h1>V\u00e9gj\u00e1t\u00e9k (reg\u00e9ny) Orson Scott Card </h1> <img src=''/><h1>Hamlet William Szekspir </h1> <img src='http://commons.wikimedia.org/wiki/Special:FilePath/Hamlet_quarto_3rd.jpg?width=300'/>\""
       ]
      }
     ],
     "prompt_number": 47
    },
    {
     "cell_type": "heading",
     "level": 3,
     "metadata": {},
     "source": [
      "Zadanie 6"
     ]
    },
    {
     "cell_type": "markdown",
     "metadata": {},
     "source": [
      "Zmodyfikuj funkcj\u0119 `display_author` tak, aby wy\u015bwietla\u0142a r\u00f3wnie\u017c wszystkie ksi\u0105\u017cki napisane przez autora. U\u017cyj znacznika `<ul>`.\n",
      "Korzystaj\u0105c z tej funkcji wy\u015bwietl opis Stanis\u0142awa Lema."
     ]
    },
    {
     "cell_type": "code",
     "collapsed": false,
     "input": [
      "def display_author(author)\n",
      "  \"<h1>#{author.name} #{author.surname}</h1><img src='#{author.image_url}'/><ul><li> #{author.book}</li></ul>\"\n",
      "end\n",
      "\n",
      "author_1 = Author.where(\"image_url is not null\").first\n",
      "author_2 = Author.where(\"image_url is not null\").offset(1).first\n",
      "document = display_author(author_1)\n",
      "document += display_author(author_2)\n",
      "IRuby.html document\n",
      "\n",
      "\n",
      "books.each do |book|\n",
      "  document += display_author(book)\n",
      "end\n",
      "\n",
      "author_1 = Author.book.first\n",
      "document = display_author(author_1)\n",
      "document += display_author(author_2)\n",
      "IRuby.html document\n",
      "\n",
      "\n",
      "POOOOPRAAAAW !!!"
     ],
     "language": "python",
     "metadata": {},
     "outputs": []
    },
    {
     "cell_type": "heading",
     "level": 3,
     "metadata": {},
     "source": [
      "Zadanie 7"
     ]
    },
    {
     "cell_type": "markdown",
     "metadata": {},
     "source": [
      "W\u015br\u00f3d ksi\u0105\u017cek napisanych przez Lema wy\u015bwietl wszystkie, kt\u00f3re zawieraja w tytule s\u0142owo \"zbi\u00f3r\"."
     ]
    },
    {
     "cell_type": "code",
     "collapsed": false,
     "input": [],
     "language": "python",
     "metadata": {},
     "outputs": []
    },
    {
     "cell_type": "heading",
     "level": 3,
     "metadata": {},
     "source": [
      "Zadanie 8"
     ]
    },
    {
     "cell_type": "markdown",
     "metadata": {},
     "source": [
      "W\u015br\u00f3d ksi\u0105\u017cek napisanych przez Lema wy\u015bwietl te, kt\u00f3re zosta\u0142y wydane w roku jego \u015bmierci."
     ]
    },
    {
     "cell_type": "code",
     "collapsed": false,
     "input": [],
     "language": "python",
     "metadata": {},
     "outputs": [],
     "prompt_number": 5
    },
    {
     "cell_type": "heading",
     "level": 3,
     "metadata": {},
     "source": [
      "Zadanie 9"
     ]
    },
    {
     "cell_type": "markdown",
     "metadata": {},
     "source": [
      "Wy\u015bwietl wszystkie ksi\u0105\u017cki znajduj\u0105ce si\u0119 w bazie. Opis powinien zawiera\u0107 tytu\u0142, imi\u0119 i nazwisko autora, rok wydania oraz \n",
      "obraz przedstawiaj\u0105cy ksi\u0105\u017ck\u0119 (o ile istnieje)."
     ]
    },
    {
     "cell_type": "code",
     "collapsed": false,
     "input": [],
     "language": "python",
     "metadata": {},
     "outputs": []
    },
    {
     "cell_type": "heading",
     "level": 3,
     "metadata": {},
     "source": [
      "Zadanie 10"
     ]
    },
    {
     "cell_type": "markdown",
     "metadata": {},
     "source": [
      "Wy\u015bwietl wszystkich autor\u00f3w znajduj\u0105cych si\u0119 w bazie wraz z opisem zawieraj\u0105cym ich zdj\u0119cie, dat\u0119 urodzin i \u015bmierci oraz spis \n",
      "opublikowanych ksi\u0105\u017cek. Pami\u0119taj o odpowiednim sformatowaniu dat oraz o tym, \u017ce nie wszyscy autorzy maj\u0105 przypisane wszystkie\n",
      "informacje."
     ]
    },
    {
     "cell_type": "code",
     "collapsed": false,
     "input": [],
     "language": "python",
     "metadata": {},
     "outputs": [],
     "prompt_number": 1
    }
   ],
   "metadata": {}
  }
 ]
}